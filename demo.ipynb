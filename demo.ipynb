{
 "cells": [
  {
   "cell_type": "markdown",
   "id": "348ca536-4edc-4d73-8efc-807a6e92335d",
   "metadata": {},
   "source": [
    "## Setup"
   ]
  },
  {
   "cell_type": "markdown",
   "id": "f8e07483-80ea-4108-b9e2-cec4af65f053",
   "metadata": {},
   "source": [
    "Load environment variables (stored in your `.env` file)."
   ]
  },
  {
   "cell_type": "code",
   "execution_count": 1,
   "id": "befe6b14-92b4-4270-b26e-5700d033ec4e",
   "metadata": {},
   "outputs": [
    {
     "data": {
      "text/plain": [
       "True"
      ]
     },
     "execution_count": 1,
     "metadata": {},
     "output_type": "execute_result"
    }
   ],
   "source": [
    "from dotenv import load_dotenv\n",
    "load_dotenv()"
   ]
  },
  {
   "cell_type": "markdown",
   "id": "dc1a47de-3a8f-4772-bae4-31a0a502758c",
   "metadata": {},
   "source": [
    "## Load Data Set"
   ]
  },
  {
   "cell_type": "markdown",
   "id": "f4fbfb39-8d5e-4124-83e1-7a06507daf4d",
   "metadata": {},
   "source": [
    "Load a data set that contains Amazon reviews for the [Ticket to Ride board game](https://www.amazon.com/Days-Wonder-DO7201-Ticket-Ride/dp/0975277324/ref=sr_1_1?crid=3H3EQBAOZMSHV&keywords=0975277324&qid=1694895498&sprefix=0975277324%2Caps%2C99&sr=8-1&th=1).\n",
    "\n",
    "<img src=\"data/ticket_to_ride.jpg\" width=\"500\" height=\"500\">"
   ]
  },
  {
   "cell_type": "code",
   "execution_count": 2,
   "id": "d767c3b3-ac22-4169-8df8-363e640415ab",
   "metadata": {},
   "outputs": [
    {
     "data": {
      "text/html": [
       "<div>\n",
       "<style scoped>\n",
       "    .dataframe tbody tr th:only-of-type {\n",
       "        vertical-align: middle;\n",
       "    }\n",
       "\n",
       "    .dataframe tbody tr th {\n",
       "        vertical-align: top;\n",
       "    }\n",
       "\n",
       "    .dataframe thead th {\n",
       "        text-align: right;\n",
       "    }\n",
       "</style>\n",
       "<table border=\"1\" class=\"dataframe\">\n",
       "  <thead>\n",
       "    <tr style=\"text-align: right;\">\n",
       "      <th></th>\n",
       "      <th>rating</th>\n",
       "      <th>reviewText</th>\n",
       "    </tr>\n",
       "  </thead>\n",
       "  <tbody>\n",
       "    <tr>\n",
       "      <th>0</th>\n",
       "      <td>5</td>\n",
       "      <td>My 10 year old son and I are crazy about board games. Since we got this one the others have been gathering dust. We play at least once a week, and the rest of the week he's strategizing for the next time we'll play. Not only is it a fantastic lesson on urban planning but also geography. I highly recommend this game for a great family experience!</td>\n",
       "    </tr>\n",
       "    <tr>\n",
       "      <th>1</th>\n",
       "      <td>5</td>\n",
       "      <td>When I first heard about Days of Wonder's newest game, Ticket to Ride (Days of Wonder, 2004 - Alan Moon), I was excited. But how could I not be - for all of Days of Wonders games so far have been fabulous, and it seems that each successive game gets better and better. And Alan Moon with a train game (shades of Union Pacific) sounded like a winning combination. I had an opportunity to play the final version of the game, and was quite impressed with how the game looked.\\n\\nAnd is the game any good? The short answer is that once you play this game, you'll never play TransAmerica again. It's a fantastic medium-weight game - one that plays equally well with two to five players. The components are superb, the artwork is great, the game is downright fun (and nasty sometimes), and the total pa...</td>\n",
       "    </tr>\n",
       "    <tr>\n",
       "      <th>2</th>\n",
       "      <td>5</td>\n",
       "      <td>This is an excellent game for 2-5 players, and especially for kids.  I was initially put off by the theme and the mentioning of winning the $1 million dollar prize on the advertisement.  I immediately thought there would be paper money involved and it would be like Monopoly where I would have to be a banker,,,and yech.  But no, I was WRONG. There is no fake money involved!  Just little cards with different colors.  Easy, but challenging. It is a game where you can be nice and not mess with your opponents supposed destination, or you can try and block them.  You get points according to the tracks you lay and connections you make.\\n  But please, I love Amazon, but their Days of Wonder games are all overpriced.  You can get this and their other games much cheaper on designated game sites....</td>\n",
       "    </tr>\n",
       "  </tbody>\n",
       "</table>\n",
       "</div>"
      ],
      "text/plain": [
       "   rating  \\\n",
       "0       5   \n",
       "1       5   \n",
       "2       5   \n",
       "\n",
       "                                                                                                                                                                                                                                                                                                                                                                                                                                                                                                                                                                                                                                                                                                                                                                                                                        reviewText  \n",
       "0                                                                                                                                                                                                                                                                                                                                                                                                                                                                      My 10 year old son and I are crazy about board games. Since we got this one the others have been gathering dust. We play at least once a week, and the rest of the week he's strategizing for the next time we'll play. Not only is it a fantastic lesson on urban planning but also geography. I highly recommend this game for a great family experience!  \n",
       "1  When I first heard about Days of Wonder's newest game, Ticket to Ride (Days of Wonder, 2004 - Alan Moon), I was excited. But how could I not be - for all of Days of Wonders games so far have been fabulous, and it seems that each successive game gets better and better. And Alan Moon with a train game (shades of Union Pacific) sounded like a winning combination. I had an opportunity to play the final version of the game, and was quite impressed with how the game looked.\\n\\nAnd is the game any good? The short answer is that once you play this game, you'll never play TransAmerica again. It's a fantastic medium-weight game - one that plays equally well with two to five players. The components are superb, the artwork is great, the game is downright fun (and nasty sometimes), and the total pa...  \n",
       "2  This is an excellent game for 2-5 players, and especially for kids.  I was initially put off by the theme and the mentioning of winning the $1 million dollar prize on the advertisement.  I immediately thought there would be paper money involved and it would be like Monopoly where I would have to be a banker,,,and yech.  But no, I was WRONG. There is no fake money involved!  Just little cards with different colors.  Easy, but challenging. It is a game where you can be nice and not mess with your opponents supposed destination, or you can try and block them.  You get points according to the tracks you lay and connections you make.\\n  But please, I love Amazon, but their Days of Wonder games are all overpriced.  You can get this and their other games much cheaper on designated game sites....  "
      ]
     },
     "execution_count": 2,
     "metadata": {},
     "output_type": "execute_result"
    }
   ],
   "source": [
    "import pandas as pd\n",
    "pd.set_option('display.max_colwidth', 800)\n",
    "dataset = pd.read_json(\"data/ticket_to_ride_amazon_reviews.json.gz\")\n",
    "dataset.head(3)"
   ]
  },
  {
   "cell_type": "code",
   "execution_count": 3,
   "id": "72487b52-eeab-484a-aada-f2370dd03b1a",
   "metadata": {},
   "outputs": [
    {
     "name": "stdout",
     "output_type": "stream",
     "text": [
      "<class 'pandas.core.frame.DataFrame'>\n",
      "RangeIndex: 4166 entries, 0 to 4165\n",
      "Data columns (total 2 columns):\n",
      " #   Column      Non-Null Count  Dtype \n",
      "---  ------      --------------  ----- \n",
      " 0   rating      4166 non-null   int64 \n",
      " 1   reviewText  4166 non-null   object\n",
      "dtypes: int64(1), object(1)\n",
      "memory usage: 65.2+ KB\n"
     ]
    }
   ],
   "source": [
    "dataset.info()"
   ]
  },
  {
   "cell_type": "markdown",
   "id": "2c348298-ad47-4351-b440-b0c9c2b5c445",
   "metadata": {},
   "source": [
    "## Store Data in Vector Database"
   ]
  },
  {
   "cell_type": "markdown",
   "id": "dc60ada1-ffda-4256-ad57-07ffc975a401",
   "metadata": {},
   "source": [
    "Instantiate in-memory [ChromaDB](https://www.trychroma.com/) Vector Database client with a new, empty collection."
   ]
  },
  {
   "cell_type": "code",
   "execution_count": 4,
   "id": "bef45cb0-9954-437b-afe6-f2089b65c57c",
   "metadata": {},
   "outputs": [],
   "source": [
    "import chromadb\n",
    "chroma_client = chromadb.Client()\n",
    "collection = chroma_client.create_collection(name=\"ticket_to_ride_reviews\")"
   ]
  },
  {
   "cell_type": "markdown",
   "id": "cf553a47-8d06-49ac-86b5-0283d34f7d81",
   "metadata": {},
   "source": [
    "Add reviews to the vector database. Since we aren't providing our own custom embeddings, ChromaDB uses the [Sentence Transformers](https://www.sbert.net/) `all-MiniLM-L6-v2` model to create the embeddings automatically."
   ]
  },
  {
   "cell_type": "code",
   "execution_count": 5,
   "id": "5ff30650-063e-47c8-865c-1c347a0346b1",
   "metadata": {},
   "outputs": [
    {
     "data": {
      "text/plain": [
       "77.49635791778564"
      ]
     },
     "execution_count": 5,
     "metadata": {},
     "output_type": "execute_result"
    }
   ],
   "source": [
    "metadata = [\n",
    "    {\n",
    "        \"rating\": x, \n",
    "    } for x in dataset.rating\n",
    "]\n",
    "\n",
    "import time\n",
    "t0 = time.time()\n",
    "collection.add(\n",
    "    ids=[str(x) for x in dataset.index.tolist()],\n",
    "    documents=dataset.reviewText.tolist(),\n",
    "    metadatas=metadata,\n",
    ")\n",
    "time.time() - t0"
   ]
  },
  {
   "cell_type": "markdown",
   "id": "a66ddca6-a40b-4161-8d5f-8caaf3a384a7",
   "metadata": {},
   "source": [
    "## Query Large Language Model"
   ]
  },
  {
   "cell_type": "code",
   "execution_count": 6,
   "id": "91bf61cd-f971-482b-baab-0d99daca0c76",
   "metadata": {},
   "outputs": [],
   "source": [
    "from langchain.llms import OpenAI\n",
    "from langchain import PromptTemplate, LLMChain\n",
    "\n",
    "llm = OpenAI()"
   ]
  },
  {
   "cell_type": "markdown",
   "id": "4c5c80c5-d2a6-45ed-b522-9a9944766f28",
   "metadata": {},
   "source": [
    "Create prompt template"
   ]
  },
  {
   "cell_type": "code",
   "execution_count": 7,
   "id": "2565ef6c-74d5-48b7-93b7-5558fd0ff1d2",
   "metadata": {},
   "outputs": [],
   "source": [
    "template = \"\"\"This question is about the Ticket to Ride board game.\n",
    "\n",
    "Question: {question}\n",
    "\n",
    "Here are some Amazon reviews that are relevant to the question. Each review is separated by the text \"<separator>\":\n",
    "{relevant_data}\n",
    "\n",
    "Use your general knowledge and the information contained in these reviews to answer the question.\n",
    "\"\"\"\n",
    "\n",
    "prompt = PromptTemplate(template=template, input_variables=[\"question\", \"relevant_data\"])\n",
    "llm_chain = LLMChain(prompt=prompt, llm=llm, verbose=True)"
   ]
  },
  {
   "cell_type": "markdown",
   "id": "18af6a49-6194-46e4-baff-e262f309eccf",
   "metadata": {},
   "source": [
    "Take the user's question, look up relevant reviews in the vector database, create the prompt, and query the ChatGPT API."
   ]
  },
  {
   "cell_type": "code",
   "execution_count": 13,
   "id": "3d7d419c-483c-49f2-a542-47ad2a15b6d7",
   "metadata": {},
   "outputs": [
    {
     "name": "stdout",
     "output_type": "stream",
     "text": [
      "\n",
      "\n",
      "\u001b[1m> Entering new LLMChain chain...\u001b[0m\n",
      "Prompt after formatting:\n",
      "\u001b[32;1m\u001b[1;3mThis question is about the Ticket to Ride board game.\n",
      "\n",
      "Question: Is the game hard to understand?\n",
      "\n",
      "Here are some Amazon reviews that are relevant to the question. Each review is separated by the text \"<separator>\":\n",
      "This was a gift for my son and daughter-in-law. We played it while they were visiting and had a good time. It is not difficult to learn, but it can be challenging to outwit the other players. I would recommend this game.<separator>Got this as a present for my husband and he is in love with the game.. It requires a mix of strategy and luck.. A bit difficult to understand at first but once you start playing it becomes super easy. Played with my 12 year old brother who also loves the game.<separator>Got this game for the family and everyone loves it.  From kids to grand parents, it is easy to understand, fund to play and requires some stratigic thinking.<separator>The game is kinda easy but yet interesting. Good time spent with the family - we played it several times in 2 weeks and it has not annoyed us yet.<separator>This has been a fun game to play. It is a little complicated when you first start out, and generally takes at least half a game for people to actually understand how to play. Use the first game as a throw away game, and don't try to explain everything at the beginning or you will get overwhelmed.<separator>Game arrived with all the pieces intact and in good shape.\n",
      "\n",
      "The game itself is a favorite for friends and family that a variety of board games. It's easy enough to understand yet retains a measurable amount of strategy and skill for those who like more of a challenge.<separator>I purchased this as a gift.  This game takes a bit of practice to understand but is fun.  Very fair price too!<separator>I am in love this game!\n",
      "If you are buying this for kids then, I don't think they'll able to understand it very quickly or efficiently. You may have to change the rules to make it easier. But if it is for a couple or to play with you group of friends, trust me and buy this one! Yeah it's a little cosly when compared to few other board games but I thinks it's worth it. It is so much fun!<separator>The first time we played it, it was a little confusing, but the second round was much easier. Had a lot of fun and the board is well made as well as the pieces. I would recommend this game to anyone.<separator>It was an easy game to learn and was very enjoyable to play. I gave it to my sister as a gift and she was thrilled with this game. Just the right amount of strategy and luck to keep your interest. I highly recommend this game it's fun.<separator>A very easy game to learn and play. Lots of replay value since every game you play is different. Great game to learn basic strategy and enjoy the time together with family and friends.<separator>Seems overwhelming at first, but very easy to play once you get started. The game doesn't rely on conversation so I can play with friends even if they don't speak a common language.<separator>This is a really fun game. The instructions are pretty straight forward. The game offers good strategy thinking for the whole family.  A simple game that can be played multiple times. The game doesn't take long to understand.  My family had a lot of fun playing this game. We enjoyed trying to out play the other.<separator>There's a bit of a learning curve.  The instructions could be a little bit clearer.  But halfway through the first game, we were hooked!  Lots of fun.<separator>This game is very entertaining plus strategic. Everyone enjoyed playing the game, but make sure that if you have young children you keep the game pieces away from them--there are many small items that a small child could put in their mouth and swallow. The directions were not difficult to understand. We bought the game after playing it at a friend's house and have had a good time playing it as a family and with friends.<separator>Great game, it's not complicated at all very easy and quick to learn but yet still fun to play.<separator>I love this game!  Me, family and friends play it all the time and it never gets old.  It is easy to understand and there are enough variations that it is never the same game twice.<separator>Great game. Requires skill but not too complicated. My family loves the game. Easy to follow instructions.<separator>I was already very familiar with this game, but it still fabulous! Bought this one especially to teach my 5yo twins how to play. They need a little help still, but are able to grasp the basic concept.<separator>I bought this after watching a YouTube video showing how it is played. This is by far our favorite new family game. My older children (ages 10 & 8) have no issues understanding how to play, and have picked up on strategy after playing just a few times.  Less complicated than Risk and more complex than Clue, which makes it perfect for our family.\n",
      "\n",
      "This will be a family favorite for many years.\n",
      "\n",
      "Use your general knowledge and the information contained in these reviews to answer the question.\n",
      "\u001b[0m\n",
      "\n",
      "\u001b[1m> Finished chain.\u001b[0m\n",
      "\n",
      "The game is not hard to understand. Many reviews mention that it is easy to learn and can be picked up quickly. It also offers a mix of strategy and luck, making it enjoyable for a variety of ages and skill levels.\n"
     ]
    }
   ],
   "source": [
    "question = \"Is the game hard to understand?\"\n",
    "rating_expression = { \"$gte\": 5 } # try this as well: { \"$lte\": 1 }\n",
    "\n",
    "# Query vector DB\n",
    "vector_db_results = collection.query(\n",
    "    query_texts=[question],\n",
    "    n_results=20,\n",
    "    where={ \"rating\": rating_expression }\n",
    ")\n",
    "relevant_data = \"<separator>\".join(vector_db_results[\"documents\"][0])\n",
    "\n",
    "# Send prompt to Chat GPT API and print result\n",
    "result = llm_chain.run(question=question, relevant_data=relevant_data)\n",
    "print(result)"
   ]
  },
  {
   "cell_type": "code",
   "execution_count": null,
   "id": "86e1aa80-81ca-43e3-88d9-3bfe9c9cbe93",
   "metadata": {},
   "outputs": [],
   "source": []
  }
 ],
 "metadata": {
  "kernelspec": {
   "display_name": "Python 3 (ipykernel)",
   "language": "python",
   "name": "python3"
  },
  "language_info": {
   "codemirror_mode": {
    "name": "ipython",
    "version": 3
   },
   "file_extension": ".py",
   "mimetype": "text/x-python",
   "name": "python",
   "nbconvert_exporter": "python",
   "pygments_lexer": "ipython3",
   "version": "3.10.12"
  }
 },
 "nbformat": 4,
 "nbformat_minor": 5
}
