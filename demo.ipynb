{
 "cells": [
  {
   "cell_type": "markdown",
   "id": "dc1a47de-3a8f-4772-bae4-31a0a502758c",
   "metadata": {},
   "source": [
    "## Download Data Set"
   ]
  },
  {
   "cell_type": "markdown",
   "id": "f4fbfb39-8d5e-4124-83e1-7a06507daf4d",
   "metadata": {},
   "source": [
    "Download a [BBC news article dataset from HuggingFace](https://huggingface.co/datasets/csebuetnlp/xlsum) and preview the data."
   ]
  },
  {
   "cell_type": "code",
   "execution_count": 1,
   "id": "d767c3b3-ac22-4169-8df8-363e640415ab",
   "metadata": {},
   "outputs": [
    {
     "data": {
      "text/plain": [
       "{'id': 'uk-scotland-highlands-islands-51206457',\n",
       " 'url': 'https://www.bbc.com/news/uk-scotland-highlands-islands-51206457',\n",
       " 'title': 'New virtual reality experience of Scottish waters',\n",
       " 'summary': \"Scotland's opportunities for sailing and boating on rivers, lochs and seas are being promoted in a new campaign.\",\n",
       " 'text': \"A series of 360 degree virtual reality videos have been produced as part of #MustSeaScotland. St Kilda, Islay, Skye and Inverness Marina are among the locations featured. Sail Scotland has created the campaign with other organisations, including the National Trust for Scotland and VisitScotland. The campaign comes during Scotland's Year of Coasts and Waters 2020. All images are the copyright of Airborne Lens.\"}"
      ]
     },
     "execution_count": 1,
     "metadata": {},
     "output_type": "execute_result"
    }
   ],
   "source": [
    "from datasets import load_dataset\n",
    "dataset = load_dataset(\"csebuetnlp/xlsum\", \"english\", split=\"train\")\n",
    "dataset[15]"
   ]
  },
  {
   "cell_type": "markdown",
   "id": "2c348298-ad47-4351-b440-b0c9c2b5c445",
   "metadata": {},
   "source": [
    "## Store Data in Vector Database"
   ]
  },
  {
   "cell_type": "markdown",
   "id": "dc60ada1-ffda-4256-ad57-07ffc975a401",
   "metadata": {},
   "source": [
    "Instantiate in-memory [ChromaDB](https://www.trychroma.com/) Vector Database client with a new, empty collection."
   ]
  },
  {
   "cell_type": "code",
   "execution_count": 2,
   "id": "bef45cb0-9954-437b-afe6-f2089b65c57c",
   "metadata": {},
   "outputs": [],
   "source": [
    "import chromadb\n",
    "chroma_client = chromadb.Client()\n",
    "collection = chroma_client.create_collection(name=\"bbc_news_articles\")"
   ]
  },
  {
   "cell_type": "markdown",
   "id": "cf553a47-8d06-49ac-86b5-0283d34f7d81",
   "metadata": {},
   "source": [
    "Add news articles to the vector database. Since we aren't providing our own custom embeddings, ChromaDB uses the [Sentence Transformers](https://www.sbert.net/) `all-MiniLM-L6-v2` model to create the embeddings automatically."
   ]
  },
  {
   "cell_type": "code",
   "execution_count": 3,
   "id": "5ff30650-063e-47c8-865c-1c347a0346b1",
   "metadata": {},
   "outputs": [],
   "source": [
    "metadata = [\n",
    "    {\n",
    "        \"title\": x[\"title\"], \n",
    "        \"text\": x[\"text\"],\n",
    "    } for x in dataset.to_list()\n",
    "]\n",
    "\n",
    "number_of_articles = 2000\n",
    "\n",
    "collection.add(\n",
    "    ids=dataset['id'][:number_of_articles],\n",
    "    documents=dataset['summary'][:number_of_articles],\n",
    "    metadatas=metadata[:number_of_articles],\n",
    ")"
   ]
  },
  {
   "cell_type": "markdown",
   "id": "6dc98b1c-e272-472c-b70c-5d4d46bf1ab1",
   "metadata": {},
   "source": [
    "## Get Relevant Data from Vector Database"
   ]
  },
  {
   "cell_type": "code",
   "execution_count": 4,
   "id": "81501001-ac51-41a6-af1e-400aca90c584",
   "metadata": {},
   "outputs": [
    {
     "data": {
      "text/plain": [
       "{'ids': [['32549706',\n",
       "   'uk-england-37653952',\n",
       "   'world-asia-17329880',\n",
       "   'science-environment-32472310',\n",
       "   'world-10785301']],\n",
       " 'distances': [[0.8070799112319946,\n",
       "   0.8324653506278992,\n",
       "   0.9004838466644287,\n",
       "   0.9371232986450195,\n",
       "   1.0706489086151123]],\n",
       " 'metadatas': [[{'text': 'By Kate RaviliousScience writer Chile\\'s earthquake barely made the news, whilst Nepal\\'s has brought complete and utter devastation. How did two such similar earthquakes have such disparate effects? A huge part of the answer is, of course, building standards and wealth. Since Chile\\'s terrible M9.5 earthquake in 1960, where over 5,500 people died, the country has taken big steps in modernising its buildings, designing them to withstand the shaking produced by great earthquakes. Meanwhile, in Nepal, few buildings were up to code, and many toppled when the earthquake struck. But wealth and building codes don\\'t tell the entire story: the geology is different, too. Nepal sits on a continental collision zone (India is smashing into Asia) and its earthquake fault is well disguised: most of the fault is buried deep underground and surface ruptures are quickly covered by muds washed down by monsoon rains and the dense jungle. Furthermore, the speed of this continental collision (around 4.5cm every year) means that major quakes only hit Nepal every few decades. Chile\\'s fault meanwhile is obvious - a whopping great trench where the Pacific Ocean floor dives underneath South America at a rate of nearly 10cm per year - with major earthquakes occurring every year, making earthquake-resilience a priority. As continental collision zones go, Nepal\\'s is at the simpler end of the spectrum and has been relatively well studied. Indeed, geologists had identified Nepal\\'s most vulnerable segment of fault just weeks before the recent deadly quake struck. Other countries in continental collision zones are underlain by a nightmare of widely dispersed faults, splintering across thousands of kilometres of land. All the way from the Mediterranean to Indonesia, lies a restless network of earthquake faults, created by the African, Arabian and Indian plates forging northwards into the Eurasian plate. Massive cities - including Istanbul, Tehran, Tabriz and Ashkhabad - are situated on some of the most dangerous land on Earth. \"Because continental faults are less confined, they rupture less frequently, with some faults only coming to life every few thousand years - well beyond human memory or recorded history,\" explains James Jackson, a geologist at Cambridge University, UK, who heads up Earthquakes Without Frontiers, a project to increase resilience to continental earthquakes. Since 1900, earthquakes on continental faults have killed twice as many people as earthquakes on ocean-continent boundaries. Over the last few years, Jackson and his colleagues have been tracking down these elusive continental faults in Iran, Kazakhstan and China. Using high-resolution satellite images, they can spot anomalies in the landscape that hint at where the fault may lie. Meanwhile, seismic reflections help to draw a picture of what lies underground. And back in the lab, the scientists study regular satellite snapshots of the Earth\\'s surface to monitor how the planet\\'s surface is deforming. \"We can see exactly where the Earth is being stretched apart or sheared, enabling us to map which parts of the Earth are under greatest strain,\" says Richard Walters from Leeds University, a member of the Earthquakes Without Frontiers team. Inverted expenditure In Nepal\\'s case, much of this information was already available, and indeed a great deal of work had been done by local organisations (such as the National Society for Earthquake Technology) to prepare for the next big earthquake - training stonemasons, retrofitting schools and hospitals, educating people about earthquakes and stockpiling vital resources. \"It does appear that there has been much less loss of life than would have been expected from such a large earthquake (though the toll could still turn out to be in the tens of thousands) and there is evidence that the programmes of the Nepalese government and some of the non-profit agencies did save lives,\" says Philip England, a geologist at Oxford University, also part of the Earthquakes without Frontiers team. If nothing else the devastating earthquake in Nepal will hopefully highlight to the international community how vital it is to build earthquake resilience. \"Five times more money is spent on a response [to an earthquake] than it is on helping people to prepare,\" Katie Peters, from the Overseas Development Institute in London, told Sky News earlier this week. The first results from the EU\\'s Sentinal 1 satellite show that last Saturday\\'s earthquake in Nepal did not rupture the surface, suggesting that significant strain may still be stored on that segment of the fault, and that another large earthquake could hit in the coming decades. \"Appalling though this event is, it could have been far, far worse. Let\\'s hope that this event is the trigger for a more positive outcome next time,\" says England.',\n",
       "    'title': 'Nepal quake: Why are some tremors so deadly?'},\n",
       "   {'text': 'By Danielle HaydenBBC News \"Herefordshire experiences a lot of earthquakes compared to other areas,\" says David Galloway, seismologist at the British Geological Survey (BGS). More than 100 have been recorded in the county in the last 40 years - and five small tremors have happened already this year, he says. Hereford was named twice in the BGS list of the most significant British earthquakes - with magnitudes of 5.2 in 1863 and 5.3 in 1896. The largest-known earthquake in the UK had a magnitude of 6.1 and happened in the North Sea on 7 June 1931. Although the majority of earthquakes go unobserved by those not in the know, one or two a month are felt and can cause alarm. Mr Galloway says the most recent \"widely felt\" tremor, in Bromyard in 2008, had a magnitude of 3.6 and affected areas between Malvern and Worcester. He says people described the quake as feeling like \"a lorry crashing in to the side of their house\" and more than a dozen people contacted the police. One Malvern resident told the Telegraph: \"I saw the wardrobe doors rattle and thought someone was trapped in it. It was terrifying.\" \"There has been a number of earthquakes in Herefordshire, some only detected by our BGS seismometers but some larger ones which were widely felt all over the region,\" Mr Galloway says. \"And also bear in mind that some other earthquakes have occurred out of the region but were felt in Herefordshire, for example the magnitude 5.1 Shropshire earthquake on 2 April 1990.\" Since 1975, 108 earthquakes have been recorded in Herefordshire, but barely any hit headlines. This is because they register as low on the seismograph, which measures the magnitude of the earthquake, from 1 for small to 10 for super intense. This information is gathered from a network of more than 100 seismograph stations across the UK with the closest being in Michaelchurch, Herefordshire. \"We don\\'t really know why so we record so many here, as earthquakes in the UK are random,\" says Mr Galloway. \"The country is in the middle of [the Eurasian] plate, which is moving all the time, so it sometimes stresses certain areas. \"But it does seem that places such as Herefordshire, Wales and North West Scotland are areas particularly prone to them.\" This story was inspired by Your Questions: \"Has there ever been an earthquake in Hereford?\"',\n",
       "    'title': 'Herefordshire: Is it an earthquake hotspot?'},\n",
       "   {'text': \"The Otsuchi vending machines After the earthquake, then the tsunami, Otsuchi was ravaged by a fire which destroyed many of the surviving buildings. All that remains of the old town are the foundations. But roads into the town have been re-laid to make the clean-up a little easier - and vending machines installed for the workers have become a beacon of progress as the area struggles to return to normality. Japan's most famous tree The sea wall in Rikuzentakata was destroyed by the tsunami, and more than 3,000 people are still missing from the town. The search for bodies along the coast continues, with many families still hopeful they will get to give their loved ones a proper burial. But standing behind the new sea wall is a lone tree - the only survivor from a whole pine forest laid waste by the wave, and now a nationwide symbol of resilience and hope. The building where people's lives are stored Rikuzentakata's city hall looks as if the tsunami happened much more recently than 12 months ago. The building is littered with sand, debris and the remains of houses - and two smashed cars sitting in the lobby where the tsunami waters left them. Amongst the rubbish are school bags and photo albums, pieces of people's lives recovered from the wreckage outside and given shelter from the elements until their owners can come to reclaim them.\",\n",
       "    'title': 'Japan tsunami: Stories and signs of hope'},\n",
       "   {'text': 'By Kate RaviliousScience writer This latest quake follows the same pattern as a duo of big tremors that occurred over 700 years ago, and results from a domino effect of strain transferring along the fault, geologists say. The researchers discovered the likely existence of this doublet effect only in recent weeks, during field work in the region. Saturday\\'s quake, which struck an area in central Nepal, between the capital Kathmandu and the city of Pokhara, has had a far-reaching impact. More than 4,000 people have lost their lives, with victims in Bangladesh, India, Tibet, and on Mount Everest, where avalanches were triggered. Death tolls and casualty figures are likely to rise over the coming days, and the risk of landslides on slopes made unstable by the quake mean that the danger is far from passed. Trench investigations In a sadly prescient turn of events, Laurent Bollinger, from the CEA research agency in France, and his colleagues, uncovered the historical pattern of earthquakes during fieldwork in Nepal last month, and anticipated a major earthquake in exactly the location where Saturday\\'s big tremor has taken place. Down in the jungle in central southern Nepal, Bollinger\\'s team dug trenches across the country\\'s main earthquake fault (which runs for more than 1,000km from west to east), at the place where the fault meets the surface, and used fragments of charcoal buried within the fault to carbon-date when the fault had last moved. Ancient texts mention a number of major earthquakes, but locating them on the ground is notoriously difficult. Monsoon rains wash soils down the hillsides and dense jungle covers much of the land, quickly obscuring earthquake ruptures. Bollinger\\'s group was able to show that this segment of fault had not moved for a long time. \"We showed that this fault was not responsible for the great earthquakes of 1505 and 1833, and that the last time it moved was most likely 1344,\" says Bollinger, who presented his findings to the Nepal Geological Society two weeks ago. Previously, the team had worked on the neighbouring segment of fault, which lies to the east of Kathmandu, and had shown that this segment experienced major quakes in 1255, and then more recently in 1934. The deadly pattern of quakes around Kathmandu When Bollinger and his colleagues saw this historic pattern of events, they became greatly concerned. \"We could see that both Kathmandu and Pokhara would now be particularly exposed to earthquakes rupturing the main fault, where it likely last did in 1344, between the two cities,\" explains Paul Tapponnier, from the Earth Observatory of Singapore, who was working with Bollinger. When a large earthquake occurs, it is common for the movement to transfer strain further along the earthquake fault, and this seems to be what happened in 1255. Over the following 89 years, strain accumulated in the neighbouring westerly segment of fault, finally rupturing in 1344. Now, history has repeated itself, with the 1934 fault transferring strain westwards along the fault, which has finally been released today, 81 years later. And, worryingly, the team warns there could be more to come. \"Early calculations suggest that Saturday\\'s magnitude-7.8 earthquake is probably not big enough to rupture all the way to the surface, so there is still likely to be more strain stored, and we should probably expect another big earthquake to the west and south of this one in the coming decades,\" says Bollinger. You can follow Kate on Twitter',\n",
       "    'title': \"Nepal quake 'followed historic pattern'\"},\n",
       "   {'text': '2020 22 May An Airbus A320 carrying 91 passengers and eight members of crew crashes in a residential area of the southern Pakistani city of Karachi, killing more than 90 people. At least two passengers survive the crash. 8 January Ukraine International Airlines flight PS752 crashes shortly after taking off from the Iranian capital Tehran, killing all 176 passengers and crew members on board. The incident took place amid escalating tensions between the US and Iran, and the Iranian government eventually admitted it had downed the plane \"unintentionally\". 2019 10 March An Ethiopian Airlines Boeing 737 Max crashes six minutes after take-off from Addis Ababa. All 157 people onboard are killed. The victims come from more than 30 countries. 2018 29 October A Boeing 737 Max, operated by Lion Air, crashes into the Java Sea shortly after taking off from Jakarta, Indonesia. All 189 passengers and crew are killed, and a volunteer diver dies in the subsequent recovery operation. Investigators said the plane - which had had technical problems on previous flights - should have been grounded. 18 May A Boeing 737 passenger plane crashes shortly after take-off from Jose Marti International Airport in Havana, killing 112 people. One passenger survives. 11 April A military plane crashes shortly after take-off near the Algerian capital Algiers, killing all 257 people on board, including 10 crew members. Most of the dead are soldiers and their families. 12 March A plane carrying 71 passengers and crew crashes on landing at Kathmandu airport. More than 50 people are killed when the Bombardier Dash 8 turboprop comes down. 18 February A passenger plane crashes into the Zagros mountains in Iran killing all 66 people on board. The Aseman Airlines ATR turboprop crashes about an hour after taking off in the capital, Tehran, heading for the south-western city of Yasuj. 11 February A Russian passenger plane crashes minutes after leaving Moscow\\'s Domodedovo airport with 71 people on board. The Antonov An-148 belonging to Saratov Airlines was en route to the city of Orsk in the Ural mountains when it crashed near the village of Argunovo, about 80km (50 miles) south-east of Moscow. 2017 There were no passenger jet crashes in 2017 - the safest year in the history of commercial airlines. 2016 25 December A Russian military Tu-154 jet airliner crashes in the Black Sea, with the loss of all 92 passengers and crew. The plane came down soon after take-off from an airport near the city of Sochi. It was carrying artistes due to give a concert for Russian troops in Syria, along with journalists and military. 7 December All 48 people on board a Pakistan International Airlines (PIA) plane were killed when it crashed in the north of the country. The national airline - accused of safety failures in the past - insisted this time that strict checks on Flight PK-661 from Chitral to Islamabad left \"no room for any technical error\". 28 November The plane carrying the football team of the Brazilian club Chapecoense runs out of fuel and crashes near Medellin, Colombia, killing 71 people, including most of the players and management. Three players were among the six survivors, while nine did not travel. 19 May French President Francois Hollande confirms that an EgyptAir flight reported missing between Paris and Cairo has crashed, with 66 people on board. 19 March A FlyDubai Boeing 737-800 crashes in Rostov-on-Don, Russia, killing all 62 people on board. 2015 31 October An Airbus A321, operated by Russian airline Kogalymavia, crashes over central Sinai some 22 minutes after taking off from Sharm el-Sheikh, killing all 224 people on board. The Islamic State group\\'s local affiliate later says it brought down the plane in response to Russian intervention in Syria. 30 June Indonesian Hercules C-130 military transport plane crashes into a residential area of Medan. The army says all 122 people on board died, along with at least 19 on the ground. 24 March: Germanwings Airbus A320 airliner crashes in the French Alps near Digne, on a flight from Barcelona to Dusseldorf. All 148 people on board were feared dead. 2014 28 December: AirAsia QZ8501 flying from Surabaya in Indonesia to Singapore goes missing over the Java sea. The pilot radioed for permission to divert around bad weather but no mayday alert was issued. There were 162 passengers and crew on board. 24 July: Air Algerie AH5017 disappears over Mali amid poor weather near the border with Burkina Faso. The McDonnell Douglas MD-83 was operated by Spain\\'s Swiftair, and was heading from Ouagadougou to Algiers carrying 116 passengers - 51 of them French. All are thought to have died. 23 July: Forty-eight people die when a Taiwanese ATR-72 plane crashes into stormy seas during a short flight. TransAsia Airways GE222 was carrying 54 passengers and four crew to the island of Penghu. It made an abortive attempt to land before crashing on a second attempt. 17 July: Malaysia Airlines flight MH17 crashes near Grabove in eastern Ukraine, killing all 298 people on board, 193 of them Dutch. Pro-Russian rebels are widely accused of shooting the plane down using a surface-to-air missile - they deny responsibility. 8 March: The disappearance of Malaysia Airlines MH370 during a flight from Kuala Lumpur to Beijing leads to the largest and most expensive search in aviation history. Despite vast effort, notably in the hostile South Indian Ocean, nothing was found until July 2015, when an aircraft wing part washed up on Reunion Island. French officials confirmed the debris was from MH370. 11 February: A military transport plane - a Hercules C-130 - carrying 78 people crashes in a mountainous part of north-eastern Algeria. Reports suggest there is one survivor from among the military personnel, family members and crew. 2013 17 November: Tatarstan Airlines Boeing 737 crashes on landing in Kazan, Russia, killing all 50 people on board. 16 October: Forty-nine people, including foreigners from some 10 countries as well as Laotian nationals, die when a Lao Airlines ATR 72-600 plunges into the Mekong River as it came in to land. 2012 3 June: A Dana Air passenger plane with about 150 people on board crashes in a densely populated area of Nigeria\\'s largest city, Lagos. 20 April: A Bhoja Air Boeing 737 crashes on its approach to the main airport in the Pakistani capital Islamabad, killing all 121 passengers and six crew. 2011 26 July: Some 78 people are killed when a Moroccan military C-130 Hercules crashes into a mountain near Guelmim in Morocco. Officials blamed bad weather. 8 July: A Hewa Bora Airways plane crash-lands in bad weather in Democratic Republic of Congo, killing 74 of the 118 people on board. 9 January: An IranAir Boeing 727 breaks into pieces near the city of Orumiyeh, killing 77 of the 100 people on board. The pilots had reported a technical failure before trying to land. 2010 5 November: An Aerocaribbean passenger turboprop crashes in mountains in central Cuba, killing all 68 people on board. 28 July: A Pakistani plane on an Airblue domestic flight from Karachi crashes into a hillside while trying to land at Islamabad airport, killing all 152 people on board. 22 May: An Air India Express Boeing 737 overshot a hilltop airport in Mangalore, southern India, and crashed into a valley, bursting into flames and killing 158. 12 May: An Afriqiyah Airways Airbus 330 crashes while trying to land near Tripoli airport in Libya, killing more than 100 people. 10 April: A Tupolev 154 plane carrying Polish President Lech Kaczynski crashes near the Russian airport of Smolensk, killing more than 90 people on board. 25 January: Ethiopian Airlines passenger jet crashes into the sea with 89 people on board shortly after take-off from Beirut. 2009 15 July: A Caspian Airlines Tupolev plane crashes in the north of Iran en route to Armenia. All 168 passengers and crew are reported dead. 30 June: A Yemeni passenger plane, an Airbus 310, crashes in the Indian Ocean near the Comoros archipelago. Only one of the 153 people on board survives. 1 June: An Air France Airbus 330 travelling from Rio de Janeiro to Paris crashes into the Atlantic with 228 people on board. Search teams later recover some 50 bodies in the ocean. 20 May: An Indonesian army C-130 Hercules transport plane crashes into a village on eastern Java, killing at least 97 people. 12 February: A passenger plane crashes into a house in Buffalo, New York, killing all 49 people on board and one person on the ground. 2008 14 September: A Boeing-737 crashes on landing near the central Russian city of Perm, killing all 88 passengers and crew members on board. 24 August: A passenger plane crashes shortly after take-off from Kyrgyzstan\\'s capital, Bishkek, killing 68 people. 20 August: A Spanair plane veers off the runway on take-off at Madrid\\'s Barajas airport, killing 154 people and injuring 18. 2007 30 November: All 56 people on board an Atlasjet flight are killed when it crashes near the town of Keciborlu in the mountainous Isparta province, about 12km (7.5 miles) from Isparta airport. 16 September: At least 87 people are killed after a One-Two-Go plane crashed on landing in bad weather at the Thai resort of Phuket. 17 July: A TAM Airlines jet crashes on landing at Congonhas airport in Sao Paulo, in Brazil\\'s worst-ever air disaster. A total of 199 people are killed - all 186 on board and 13 on the ground. 5 May: A Kenya Airways Boeing 737-800 crashes in swampland in southern Cameroon, killing all 114 on board. The official inquiry is yet to report on the cause of the disaster. 1 January: An Adam Air Boeing 737-400 carrying 102 passengers and crew comes down in mountains on Sulawesi Island on a domestic Indonesian flight. All on board are presumed dead. 2006 29 September: A Boeing 737 carrying 154 passengers and crew crashed into the Amazon rainforest in Brazil, killing all on board, after colliding with a private jet in mid-air. 22 August: A Russian Tupolev-154 passenger plane with 170 people on board crashes north of Donetsk, in eastern Ukraine. 9 July: A Russian S7 Airbus A-310 skids off the runway during landing at Irkutsk airport in Siberia. A total of 124 people on board die, but more than 50 survive the crash. 3 May: An Armavia Airbus A-320 crashes into the Black Sea near Sochi, killing all 113 people on board. 2005 10 December: A Sosoliso Airlines DC-9 crashes in the southern Nigerian city of Port Harcourt, killing 103 people on board. 6 December: A C-130 military transport plane crashes on the outskirts of the Iranian capital Tehran, killing 110 people, including some on the ground. 22 October: A Bellview airlines Boeing 737 carrying 117 people on board crashes soon after take-off from the Nigerian city of Lagos, killing everyone on board. 5 September: A Mandala Airlines plane with 112 passengers and five crew on board crashes after take-off in the Indonesian city of Medan, killing almost all on board and dozens on the ground. 16 August: A Colombian plane operated by West Caribbean Airways crashes in a remote region of Venezuela, killing all 160 people on board. The airliner, heading from Panama to Martinique, was packed with residents of the Caribbean island. 14 August: A Helios Airways flight from Cyprus to Athens with 121 people on board crashes north of the Greek capital Athens, apparently after a drop in cabin pressure. 16 July: An Equatair plane crashes soon after take-off from Equatorial Guinea\\'s island capital, Malabo, west of the mainland, killing all 60 people on board. 3 February: The wreckage of Kam Air Boeing 737 flight is located in high mountains near the Afghan capital Kabul, two days after the plane vanished from radar screens in heavy snowstorms. All 104 people on board are feared dead. 2004 21 November: A passenger plane crashes into a frozen lake near the city of Baotou in the Inner Mongolia region of northern China, killing all 53 on board and two on the ground, officials say. 3 January: An Egyptian charter plane belonging to Flash Airlines crashes into the Red Sea, killing all 141 people on board. Most of the passengers are thought to be French tourists. 2003 25 December: A Boeing 727 crashes soon after take-off from the West African state of Benin, killing at least 135 people en route to Lebanon. 8 July: A Boeing 737 crashes in Sudan shortly after take-off, killing 115 people on board. Only one passenger, a small child survived. 26 May: A Ukrainian Yak-42 crashes near the Black Sea resort of Trabzon in north-west Turkey, killing all 74 people on board - most of them Spanish peacekeepers returning home from Afghanistan. 8 May: As many as 170 people are reported dead in DR Congo after the rear ramp of an old Soviet plane, an Ilyushin 76 cargo plane, apparently falls off, sucking them out. 6 March: An Algerian Boeing 737 crashes after taking off from the remote Tamanrasset airport, leaving up to 102 people dead. 19 February: An Iranian military transport aircraft carrying 276 people crashes in the south of the country, killing all on board. 8 January: A Turkish Airlines plane with 76 passengers and crew on board crashes while coming in to land at Diyarbakir. 2002 23 December: An Antonov 140 commuter plane carrying aerospace experts crashes in central Iran, killing all 46 people aboard. The delegation had been due to review an Iranian version of the same plane built under licence. 27 July: A fighter jet crashes into a crowd of spectators in the west Ukrainian town of Lviv, killing 77 people, in what is the world\\'s worst air show disaster. 1 July: Seventy-one people, many of them children die when a Russian Tupolev 154 aircraft on a school trip to Spain collides with a Boeing 757 transport plane over southern Germany. 25 May: A Boeing 747 belonging to Taiwan\\'s national carrier - China Airlines - crashes into the sea near the Taiwanese island of Penghu, with 225 passengers and crew on board. 7 May: China Northern Airlines plane carrying 112 people crashes into the sea near Dalian in north-east China. 7 May: On the same day, an EgyptAir Boeing 735 crash lands near Tunis with 55 passengers and up to 10 crew on board. Most people survive. 4 May: A BAC1-11-500 plane operated by EAS Airlines crashes in the Nigerian city of Kano, killing 148 people - half of them on the ground. 15 April: Air China flight 129 crashes on its approach to Pusan, South Korea, with over 160 passengers and crew on board. 12 February: A Tupolev 154 operated by Iran Air crashes in mountains in the west of Iran, killing all 117 on board. 29 January: A Boeing 727 from the Ecuadorean TAME airline crashes in mountains in Colombia, killing 92 people. 2001 12 November: An American Airlines A-300 bound for the Dominican Republic crashes after takeoff in a residential area of the borough of Queens, New York, killing all 260 people on board and at least five people on the ground. 8 October: A Scandinavian Airlines System (SAS) airliner collides with a small plane in heavy fog on the runway at Milan\\'s Linate airport, killing 118 people. 4 October: A Russian Sibir Airlines Tupolev 154,en route from Tel Aviv to Novosibirsk in Siberia, explodes in mid-air and crashes into the Black Sea, killing 78 passengers and crew. 3 July: A Russian Tupolev 154,en route from Yekaterinburg in the Ural mountains to the Russian port of Vladivostok, crashes near the Siberian city of Irkutsk, killing 133 passengers and 10 crew. 2000 30 October: A Singapore Airlines Boeing 747 bound for Los Angeles crashes after take-off from Taipei airport in Taiwan, killing 78 of the 179 people on board. 23 August: A Gulf Air Airbus crashes into the sea as it comes in to land in Bahrain, killing all 143 people on board. 25 July: Air France Concorde en route for New York crashes into a hotel outside Paris shortly after takeoff, killing 113 people, including four on the ground. 17 July: Alliance Air Boeing 737-200 crashes into houses attempting to land at Patna, India, killing 51 people on board and four on the ground. 19 April: Air Philippines Boeing 737-200 from Manila to Davao crashes on approach to landing, killing all 131 people on board. 31 January: Alaska Airlines MD-83 from Mexico to San Francisco plunges into ocean off southern California, killing all 88 people on board. 30 January: Kenya Airways A-310 crashes into Atlantic Ocean shortly after takeoff from Abidjan, Ivory Coast, en route for Lagos, Nigeria. All but 10 of the 179 people on board die. 1999 31 October: EgyptAir Boeing 767 crashes into Atlantic Ocean after taking off from John F. Kennedy Airport in New York on flight to Cairo, Egypt, killing all 217 on board. 24 February: China Southwest Airlines plane crashes in a field in China\\'s coastal Zhejiang province after a mid-air explosion. All 61 people on board the Russian-built TU-154 flying from Chongqing to the south-eastern city of Wenzhou are killed. 1998 11 December: Thai Airways International A-310 crashes on a domestic flight during its third attempt to land at Surat Thani, Thailand, killing 101 people. 2 September: Swissair MD-11 from New York to Geneva crashes in the Atlantic Ocean off Canada killing all 229 people on board. 16 February: Airbus A-300 owned by Taiwan\\'s China Airlines crashes near Taipei\\'s Chiang Kai-shek airport while trying to land in fog and rain after a flight from Bali, Indonesia. All 196 on board and seven people on ground are killed. 2 February: Cebu Pacific Air DC-9 crashes into mountain in southern Philippines, killing all 104 people aboard.',\n",
       "    'title': 'Air disasters timeline'}]],\n",
       " 'embeddings': None,\n",
       " 'documents': [['On 1 April, 2014, a Magnitude 8.2 earthquake rocked northern Chile. Six people died, 2,500 homes were damaged and 80,000 people were displaced. Just over one year later, a M7.8 earthquake strikes Nepal. Over 6,200 people (and counting) have been killed, entire towns and villages flattened and millions of people left homeless.',\n",
       "   'Earthquakes have the power to shake cities to the ground, yet in the UK about 200 a year rumble under our feet mostly unnoticed. Your Questions led us to investigate earthquakes in Herefordshire - where one expert thinks the county is a hotspot for these hidden tremors.',\n",
       "   'A year after the biggest earthquake on record to hit Japan and the tsunami which followed in its wake, Roland Buerk visits some of the places hit by the disaster to see what progress has been made in rebuilding towns and lives.',\n",
       "   \"Nepal's devastating magnitude-7.8 earthquake on Saturday was primed over 80 years ago by its last massive earthquake in 1934, which razed around a quarter of Kathmandu to the ground and killed over 17,000 people.\",\n",
       "   'A chronology of major air disasters since 1998:']]}"
      ]
     },
     "execution_count": 4,
     "metadata": {},
     "output_type": "execute_result"
    }
   ],
   "source": [
    "collection.query(\n",
    "    query_texts=[\"earthquakes and natural disasters\"],\n",
    "    n_results=5\n",
    ")"
   ]
  },
  {
   "cell_type": "markdown",
   "id": "a66ddca6-a40b-4161-8d5f-8caaf3a384a7",
   "metadata": {},
   "source": [
    "## Query Large Language Model"
   ]
  },
  {
   "cell_type": "code",
   "execution_count": null,
   "id": "91bf61cd-f971-482b-baab-0d99daca0c76",
   "metadata": {},
   "outputs": [],
   "source": []
  }
 ],
 "metadata": {
  "kernelspec": {
   "display_name": "Python 3 (ipykernel)",
   "language": "python",
   "name": "python3"
  },
  "language_info": {
   "codemirror_mode": {
    "name": "ipython",
    "version": 3
   },
   "file_extension": ".py",
   "mimetype": "text/x-python",
   "name": "python",
   "nbconvert_exporter": "python",
   "pygments_lexer": "ipython3",
   "version": "3.10.12"
  }
 },
 "nbformat": 4,
 "nbformat_minor": 5
}
