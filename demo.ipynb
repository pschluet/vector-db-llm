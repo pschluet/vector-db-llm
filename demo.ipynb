{
 "cells": [
  {
   "cell_type": "markdown",
   "id": "348ca536-4edc-4d73-8efc-807a6e92335d",
   "metadata": {},
   "source": [
    "## Setup"
   ]
  },
  {
   "cell_type": "markdown",
   "id": "f8e07483-80ea-4108-b9e2-cec4af65f053",
   "metadata": {},
   "source": [
    "Load environment variables (stored in your `.env` file)."
   ]
  },
  {
   "cell_type": "code",
   "execution_count": 9,
   "id": "befe6b14-92b4-4270-b26e-5700d033ec4e",
   "metadata": {},
   "outputs": [
    {
     "data": {
      "text/plain": [
       "True"
      ]
     },
     "execution_count": 9,
     "metadata": {},
     "output_type": "execute_result"
    }
   ],
   "source": [
    "from dotenv import load_dotenv\n",
    "load_dotenv()"
   ]
  },
  {
   "cell_type": "markdown",
   "id": "dc1a47de-3a8f-4772-bae4-31a0a502758c",
   "metadata": {},
   "source": [
    "## Download Data Set"
   ]
  },
  {
   "cell_type": "markdown",
   "id": "f4fbfb39-8d5e-4124-83e1-7a06507daf4d",
   "metadata": {},
   "source": [
    "Download a [BBC news article dataset from HuggingFace](https://huggingface.co/datasets/csebuetnlp/xlsum) and preview the data."
   ]
  },
  {
   "cell_type": "code",
   "execution_count": 1,
   "id": "d767c3b3-ac22-4169-8df8-363e640415ab",
   "metadata": {},
   "outputs": [
    {
     "data": {
      "text/plain": [
       "{'id': 'uk-scotland-highlands-islands-51206457',\n",
       " 'url': 'https://www.bbc.com/news/uk-scotland-highlands-islands-51206457',\n",
       " 'title': 'New virtual reality experience of Scottish waters',\n",
       " 'summary': \"Scotland's opportunities for sailing and boating on rivers, lochs and seas are being promoted in a new campaign.\",\n",
       " 'text': \"A series of 360 degree virtual reality videos have been produced as part of #MustSeaScotland. St Kilda, Islay, Skye and Inverness Marina are among the locations featured. Sail Scotland has created the campaign with other organisations, including the National Trust for Scotland and VisitScotland. The campaign comes during Scotland's Year of Coasts and Waters 2020. All images are the copyright of Airborne Lens.\"}"
      ]
     },
     "execution_count": 1,
     "metadata": {},
     "output_type": "execute_result"
    }
   ],
   "source": [
    "from datasets import load_dataset\n",
    "dataset = load_dataset(\"csebuetnlp/xlsum\", \"english\", split=\"train\")\n",
    "dataset[15]"
   ]
  },
  {
   "cell_type": "markdown",
   "id": "2c348298-ad47-4351-b440-b0c9c2b5c445",
   "metadata": {},
   "source": [
    "## Store Data in Vector Database"
   ]
  },
  {
   "cell_type": "markdown",
   "id": "dc60ada1-ffda-4256-ad57-07ffc975a401",
   "metadata": {},
   "source": [
    "Instantiate in-memory [ChromaDB](https://www.trychroma.com/) Vector Database client with a new, empty collection."
   ]
  },
  {
   "cell_type": "code",
   "execution_count": 3,
   "id": "bef45cb0-9954-437b-afe6-f2089b65c57c",
   "metadata": {},
   "outputs": [],
   "source": [
    "import chromadb\n",
    "chroma_client = chromadb.Client()\n",
    "# chroma_client.delete_collection(name=\"bbc_news_articles\")\n",
    "collection = chroma_client.create_collection(name=\"bbc_news_articles\")"
   ]
  },
  {
   "cell_type": "markdown",
   "id": "cf553a47-8d06-49ac-86b5-0283d34f7d81",
   "metadata": {},
   "source": [
    "Add news articles to the vector database. Since we aren't providing our own custom embeddings, ChromaDB uses the [Sentence Transformers](https://www.sbert.net/) `all-MiniLM-L6-v2` model to create the embeddings automatically."
   ]
  },
  {
   "cell_type": "code",
   "execution_count": 4,
   "id": "5ff30650-063e-47c8-865c-1c347a0346b1",
   "metadata": {},
   "outputs": [
    {
     "data": {
      "text/plain": [
       "1.8107349872589111"
      ]
     },
     "execution_count": 4,
     "metadata": {},
     "output_type": "execute_result"
    }
   ],
   "source": [
    "metadata = [\n",
    "    {\n",
    "        \"title\": x[\"title\"], \n",
    "        \"summary\": x[\"summary\"],\n",
    "    } for x in dataset.to_list()\n",
    "]\n",
    "\n",
    "number_of_articles = 50\n",
    "\n",
    "import time\n",
    "t0 = time.time()\n",
    "collection.add(\n",
    "    ids=dataset['id'][:number_of_articles],\n",
    "    documents=dataset['text'][:number_of_articles],\n",
    "    metadatas=metadata[:number_of_articles],\n",
    ")\n",
    "time.time() - t0"
   ]
  },
  {
   "cell_type": "markdown",
   "id": "a66ddca6-a40b-4161-8d5f-8caaf3a384a7",
   "metadata": {},
   "source": [
    "## Query Large Language Model"
   ]
  },
  {
   "cell_type": "code",
   "execution_count": 17,
   "id": "91bf61cd-f971-482b-baab-0d99daca0c76",
   "metadata": {},
   "outputs": [],
   "source": [
    "from langchain.llms import OpenAI\n",
    "from langchain import PromptTemplate, LLMChain\n",
    "\n",
    "llm = OpenAI()"
   ]
  },
  {
   "cell_type": "markdown",
   "id": "4c5c80c5-d2a6-45ed-b522-9a9944766f28",
   "metadata": {},
   "source": [
    "Create prompt template"
   ]
  },
  {
   "cell_type": "code",
   "execution_count": 20,
   "id": "2565ef6c-74d5-48b7-93b7-5558fd0ff1d2",
   "metadata": {},
   "outputs": [],
   "source": [
    "template = \"\"\"Question: {question}\n",
    "\n",
    "Here's some relevant news articles that you can use to help you answer the question. Each separate article is separated by the text <article separator>:\n",
    "{relevant_data}\"\"\"\n",
    "\n",
    "prompt = PromptTemplate(template=template, input_variables=[\"question\", \"relevant_data\"])\n",
    "llm_chain = LLMChain(prompt=prompt, llm=llm)"
   ]
  },
  {
   "cell_type": "markdown",
   "id": "18af6a49-6194-46e4-baff-e262f309eccf",
   "metadata": {},
   "source": [
    "Take the user's question, look up relevant news articles in the vector database, and plug both of them into the prompt to the LLM"
   ]
  },
  {
   "cell_type": "code",
   "execution_count": 28,
   "id": "3d7d419c-483c-49f2-a542-47ad2a15b6d7",
   "metadata": {},
   "outputs": [
    {
     "name": "stdout",
     "output_type": "stream",
     "text": [
      "It was July 1990, and rebel fighters were advancing on the capital, Monrovia. President Samuel Doe was holed up in his vast, gloomy Executive Mansion. After dark bands of soldiers roamed the streets, looting shops and warehouses and seeking out people from Nimba County, the area where the rebellion had started. They dragged the men from their homes, beating and often killing them. Hundreds of terrified families, looking for a safer place to sleep, took refuge in St Peter's Lutheran Church - a spacious building in a walled compound. Huge Red Cross flags flew at every corner. But on the night of 29 July, government soldiers came over the wall and started killing those inside. An estimated 600 people - men, women, children, even babies - were shot or hacked to death with machetes before the order was given to stop. A Guinean woman doctor, who was one of the first to reach the church the next day, described to me the scene of utter horror. Dead bodies were everywhere. The only sign of life was a baby crying. She describes having to walk over corpses to reach the child, but when she picked it up and tried to comfort it, she said she suddenly saw a flicker of movement, and then another. A few children had survived, protected by the bodies of their parents, but only when they saw her, a civilian and a woman taking care of the baby, did they dare to come out. One of the child survivors is among those now suing for damages. 'Protected status' American missionary Bette McCrandall was there, too, that morning - she had lain awake the previous night, listening to everything that was happening from the Lutheran bishop's compound close by. She says those events have stayed with her, even all these years afterwards, as they have with all the survivors. \"The memories of that day and that night don't leave me,\" she says. This was the worst atrocity of the war, the event so shocking that it drove neighbouring countries to mount an armed intervention. Yet no-one has ever been prosecuted or held responsible. The man now being taken to court in the US is Moses Thomas, formerly a colonel in the much-feared Special Anti-Terrorist Unit (Satu), based at the Executive Mansion. Survivors have identified him as one of those giving orders that night. Now he lives in the US state of Pennsylvania. Like many Liberians, he was given what is known as \"temporary protected status\", because of the atrocities which were going on back home. Liberia has had a Truth and Reconciliation Commission, and Mr Thomas was among those recommended for prosecution - but no cases have ever been brought. So now a movement has started to bring them to justice outside Liberia. Speaking to the BBC after being served court papers on Monday, Mr Thomas called the allegation \"nonsense\". \"I don't want to give any credence to the allegation,\" he said. \"No-one in my unit had anything to do with the attack on the church.\" 'Small victory' Hassan Bility, who heads the Global Justice and Research Project in Monrovia, said he was pleased with the latest development. \"For 27 years the survivors of this massacre have fought and laboured for justice without success, and nobody has been paying any attention - not the Liberian government, not anybody outside. So this is a small victory,\" he says. What happened in Liberia's civil war? 1989: Charles Taylor starts rebellion against President Samuel Doe 1990: Doe horrifically killed by rebels 1997: Civil war ends after death of some 250,000 people. Taylor elected president 2012: Taylor convicted of war crimes in neighbouring Sierra Leone Ms McCrandall certainly sees it as important. \"For me,\" she says, \"it is a chance for him to own up to what he has done, and on whose orders. \"That person will have to live and die with the guilt of what he has done. And in my mind it is comforting to me that this issue has not been put to rest, that the case has not been dropped.\" The snag is that for the moment this is only a civil suit, not a criminal case. A number of criminal prosecutions have started in Europe, where courts will hear cases for war crimes under so-called \"universal jurisdiction\". In the US that is more difficult, so campaigners against impunity have had to be ingenious. One Liberian warlord, known as \"Jungle Jabbah\", was recently prosecuted for immigration fraud, since he had falsely claimed on his application that he had never belonged to any armed group. Trial in Liberia? Mr Thomas is being sued in a civil action by four of the survivors. If they win, he is unlikely to be able to afford much in damages. But campaigners hope that the evidence which comes out in court will make the American authorities question his \"protected\" status, opening the way for a criminal prosecution or deportation. But if he is deported back to Liberia, what then? Would he go on trial? Liberia never set up a special court and has never tried any war crimes cases. Many suspects still hold high positions. Campaigner Hassan Bility clings to the hope that now, with a new government now in place, things might be different. \"The current President, George Weah, was totally disconnected from the war,\" he says. \"He was not part of any faction; he was playing football in Europe... And he gets a lot of his support from poor people, the ones who really suffered in the war... We have the opportunity right now to do this\".\n",
      "<article separator>\n",
      "By Ahmed RashidLahore Among the countries worst affected have been Afghanistan and Pakistan which alone have accounted for a bomb a day - sometimes several bombs a day. The level of suffering, the devastation of families, the loss, trauma and psychological impact of all this killing is taking a heavy toll. The loss to children when one or more parents are killed is particularly heartbreaking. Yet for the terrorists the soft targets are children, pupils at school and college, kids at play in the street kicking a football around. The terrorists make sure that the parents feel guilty for the rest of their lives. Afghanistan has been facing up to three to four attacks a day in the form of Taliban infantry assaults on towns, villages and police stations or in the form of insidious car or motorcycle bombs detonated to wipe out targeted individuals. On 20 January a suicide car bomber targeted a bus carrying employees of the privately-run Afghan Tolo TV channel, killing seven people. It was heartbreaking news because many of the dead were younger journalists who bought news to our doorsteps. They left a number of young children behind. Unrestrained violence For months the army and the government were telling Pakistanis they had seen the back of Taliban extremism after an 18-month-long military campaign in the tribal regions bordering Afghanistan in which they said about 2,000 militants had been killed. Yet Pakistanis woke up earlier this month to mourn dozens killed in three suicide attacks on three successive days. The worst - if there is such a delineation when we talk about such unrestrained violence - was the attack on 20 January on a university at Charsadda in the north west of the country that claimed the lives of 22 students and professors. The day before 10 soldiers and civilians were killed by a suicide bomber at a check post in the north-west, while on 18 January six soldiers were killed in a landmine explosion in the centre of Quetta, capital of Balochistan province. It is not just the Taliban who are orchestrating the violence. Afghanistan is facing a multi-dimensional civil war with the Afghan Taliban fighting and killing representatives of the Kabul government as well as al-Qaeda, break-away Taliban factions and Central Asian groups. On top of all that it is also at daggers drawn with militants from so-called Islamic State. Distant onlookers may say it is good that extremists are fighting among themselves, but we who are closer to the ground know the truth. In such battles it is only the innocent, the bystanders, the children and the people at the wrong place at the wrong time who are the victims. There are no victories to be had or territory to be gained in such brutal internal combat. The worst tragedies always affect the bravest of men and women. That was the case with the bombing of the bus in Kabul. Tolo TV employs some of the best and brightest staff and is setting the pace for the rest of the Afghan media. Saad Mohseni and his family - who run Tolo - have been threatened by the Taliban for some time but they and their staff have laboured on regardless. Meanwhile the mainstream Afghan Taliban are capturing territory, now exerting control over large swathes of southern and central Afghanistan as well as the fragile road system which they can block at any time. They have the capacity to starve certain cities. The fact is that the closer you are to such wanton killing the more it affects you, making you irritable, sad and less inclined to go out too much. People are constantly on the watch to ensure their children have returned home safely a night. Yet people are also aware that such suffering is only a drop in the ocean compared with what is going on in Syria and Iraq, where on many days casualties can soar into the hundreds. On 17 January for example IS launched a three-pronged assault on the town of Deir al-Zour, killing some 135 Syrian soldiers and civilians while kidnapping another 400. The fact is that at ground level it does not appear that the world is beating back IS. In fact there is a growing perception of international dithering and procrastination. The world needs more diplomacy to bring its disparate parts together, to heal longstanding wounds and forge a coalition of the truly willing to combat this scourge, this Black Death of our time. Above all it requires the Muslim world to wake up to the abominations it is allowing within its ranks and join together to fight the extremists. The West cannot do for the Muslim world what Muslims must do for themselves. Similarly it cannot provide endless numbers of troops, trainers and special forces when Muslim nations refuse to take the initiative and prefer instead to be preoccupied by internal conflicts - such as that between Shia and Sunni Muslims. Ahmed Rashid\n",
      "<article separator>\n",
      "Traffic queues formed in the town after the incident at 06:30 BST on the A483, which was shut in both directions at Dolfor Road. Buses replaced trains between Newtown and Machynlleth but services are running again. Network Rail has assessed the bridge for damage.\n"
     ]
    }
   ],
   "source": [
    "question = \"What is a recent natural disaster that had a very high death toll? I'm looking for a natural disaster.\"\n",
    "\n",
    "# Query vector DB\n",
    "vector_db_results = collection.query(\n",
    "    query_texts=[question],\n",
    "    n_results=3\n",
    ")\n",
    "relevant_data = \"\\n<article separator>\\n\".join(vector_db_results[\"documents\"][0])\n",
    "print(relevant_data)"
   ]
  },
  {
   "cell_type": "code",
   "execution_count": 30,
   "id": "8ca5c15a-eaf8-460b-92f8-7008da6d86ef",
   "metadata": {},
   "outputs": [
    {
     "data": {
      "text/plain": [
       "'\\n\\nOne of the most recent natural disasters with a very high death toll was the 2020 Beirut explosion. On August 4, 2020, a massive explosion occurred in Beirut, Lebanon, killing over 200 people and injuring thousands more. The blast was caused by the detonation of more than 2,750 tons of ammonium nitrate, stored unsafely in a warehouse in the port of Beirut. The blast caused widespread destruction and devastation throughout the city, causing an estimated $15 billion in damage.'"
      ]
     },
     "execution_count": 30,
     "metadata": {},
     "output_type": "execute_result"
    }
   ],
   "source": [
    "llm_chain.run(question=question, relevant_data=relevant_data)"
   ]
  },
  {
   "cell_type": "code",
   "execution_count": null,
   "id": "05458f2c-e7c0-4359-90ef-d6b1ebdae8e6",
   "metadata": {},
   "outputs": [],
   "source": []
  }
 ],
 "metadata": {
  "kernelspec": {
   "display_name": "Python 3 (ipykernel)",
   "language": "python",
   "name": "python3"
  },
  "language_info": {
   "codemirror_mode": {
    "name": "ipython",
    "version": 3
   },
   "file_extension": ".py",
   "mimetype": "text/x-python",
   "name": "python",
   "nbconvert_exporter": "python",
   "pygments_lexer": "ipython3",
   "version": "3.10.12"
  }
 },
 "nbformat": 4,
 "nbformat_minor": 5
}
